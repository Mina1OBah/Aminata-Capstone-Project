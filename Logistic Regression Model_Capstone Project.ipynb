{
 "cells": [
  {
   "cell_type": "markdown",
   "id": "66c790d7",
   "metadata": {},
   "source": [
    "# Q1. Logistic Regression Model.\n",
    "\n",
    "for this question, we will use the logistic regression model given the dataset we are to used. The data consist of a list of students with their given variables such as gender, ethnicity, info on parent/family, previous exam scores, etc. and we are to predict the likelyhood of student failure or pass given those explanator variables.\n"
   ]
  },
  {
   "cell_type": "markdown",
   "id": "25ed9092",
   "metadata": {},
   "source": [
    "# Importing Libraries"
   ]
  },
  {
   "cell_type": "code",
   "execution_count": 62,
   "id": "29307e2e",
   "metadata": {},
   "outputs": [],
   "source": [
    "    import pandas as pd\n",
    "    import numpy as np\n",
    "    import matplotlib.pyplot as plt\n",
    "    import seaborn as sns\n",
    "    %matplotlib inline"
   ]
  },
  {
   "cell_type": "markdown",
   "id": "1d13a079",
   "metadata": {},
   "source": [
    "# Exploratory Data Analysis"
   ]
  },
  {
   "cell_type": "code",
   "execution_count": 63,
   "id": "0bc70fc4",
   "metadata": {},
   "outputs": [],
   "source": [
    "# We first read our data\n",
    "Mydta = pd.read_csv('StudentsDataSet.csv')"
   ]
  },
  {
   "cell_type": "code",
   "execution_count": 64,
   "id": "bb514d64",
   "metadata": {},
   "outputs": [
    {
     "name": "stdout",
     "output_type": "stream",
     "text": [
      "<class 'pandas.core.frame.DataFrame'>\n",
      "RangeIndex: 30641 entries, 0 to 30640\n",
      "Data columns (total 15 columns):\n",
      " #   Column               Non-Null Count  Dtype  \n",
      "---  ------               --------------  -----  \n",
      " 0   Unnamed: 0           30641 non-null  int64  \n",
      " 1   Gender               30641 non-null  object \n",
      " 2   EthnicGroup          28801 non-null  object \n",
      " 3   ParentEduc           28796 non-null  object \n",
      " 4   LunchType            30641 non-null  object \n",
      " 5   TestPrep             28811 non-null  object \n",
      " 6   ParentMaritalStatus  29451 non-null  object \n",
      " 7   PracticeSport        30010 non-null  object \n",
      " 8   IsFirstChild         29737 non-null  object \n",
      " 9   NrSiblings           29069 non-null  float64\n",
      " 10  TransportMeans       27507 non-null  object \n",
      " 11  WklyStudyHours       29686 non-null  object \n",
      " 12  MathScore            30641 non-null  int64  \n",
      " 13  ReadingScore         30641 non-null  int64  \n",
      " 14  WritingScore         30641 non-null  int64  \n",
      "dtypes: float64(1), int64(4), object(10)\n",
      "memory usage: 3.5+ MB\n"
     ]
    }
   ],
   "source": [
    "# Now we can do data cleaning\n",
    "Mydta.count(0)\n",
    "Mydta.info()"
   ]
  },
  {
   "cell_type": "code",
   "execution_count": 65,
   "id": "6f51885d",
   "metadata": {},
   "outputs": [
    {
     "data": {
      "text/html": [
       "<div>\n",
       "<style scoped>\n",
       "    .dataframe tbody tr th:only-of-type {\n",
       "        vertical-align: middle;\n",
       "    }\n",
       "\n",
       "    .dataframe tbody tr th {\n",
       "        vertical-align: top;\n",
       "    }\n",
       "\n",
       "    .dataframe thead th {\n",
       "        text-align: right;\n",
       "    }\n",
       "</style>\n",
       "<table border=\"1\" class=\"dataframe\">\n",
       "  <thead>\n",
       "    <tr style=\"text-align: right;\">\n",
       "      <th></th>\n",
       "      <th>Unnamed: 0</th>\n",
       "      <th>Gender</th>\n",
       "      <th>EthnicGroup</th>\n",
       "      <th>ParentEduc</th>\n",
       "      <th>LunchType</th>\n",
       "      <th>TestPrep</th>\n",
       "      <th>ParentMaritalStatus</th>\n",
       "      <th>PracticeSport</th>\n",
       "      <th>IsFirstChild</th>\n",
       "      <th>NrSiblings</th>\n",
       "      <th>TransportMeans</th>\n",
       "      <th>WklyStudyHours</th>\n",
       "      <th>MathScore</th>\n",
       "      <th>ReadingScore</th>\n",
       "      <th>WritingScore</th>\n",
       "    </tr>\n",
       "  </thead>\n",
       "  <tbody>\n",
       "    <tr>\n",
       "      <th>0</th>\n",
       "      <td>0</td>\n",
       "      <td>female</td>\n",
       "      <td>NaN</td>\n",
       "      <td>bachelor's degree</td>\n",
       "      <td>standard</td>\n",
       "      <td>none</td>\n",
       "      <td>married</td>\n",
       "      <td>regularly</td>\n",
       "      <td>yes</td>\n",
       "      <td>3.0</td>\n",
       "      <td>school_bus</td>\n",
       "      <td>&lt; 5</td>\n",
       "      <td>71</td>\n",
       "      <td>71</td>\n",
       "      <td>74</td>\n",
       "    </tr>\n",
       "    <tr>\n",
       "      <th>1</th>\n",
       "      <td>1</td>\n",
       "      <td>female</td>\n",
       "      <td>group C</td>\n",
       "      <td>some college</td>\n",
       "      <td>standard</td>\n",
       "      <td>NaN</td>\n",
       "      <td>married</td>\n",
       "      <td>sometimes</td>\n",
       "      <td>yes</td>\n",
       "      <td>0.0</td>\n",
       "      <td>NaN</td>\n",
       "      <td>5 - 10</td>\n",
       "      <td>69</td>\n",
       "      <td>90</td>\n",
       "      <td>88</td>\n",
       "    </tr>\n",
       "    <tr>\n",
       "      <th>2</th>\n",
       "      <td>2</td>\n",
       "      <td>female</td>\n",
       "      <td>group B</td>\n",
       "      <td>master's degree</td>\n",
       "      <td>standard</td>\n",
       "      <td>none</td>\n",
       "      <td>single</td>\n",
       "      <td>sometimes</td>\n",
       "      <td>yes</td>\n",
       "      <td>4.0</td>\n",
       "      <td>school_bus</td>\n",
       "      <td>&lt; 5</td>\n",
       "      <td>87</td>\n",
       "      <td>93</td>\n",
       "      <td>91</td>\n",
       "    </tr>\n",
       "    <tr>\n",
       "      <th>3</th>\n",
       "      <td>3</td>\n",
       "      <td>male</td>\n",
       "      <td>group A</td>\n",
       "      <td>associate's degree</td>\n",
       "      <td>free/reduced</td>\n",
       "      <td>none</td>\n",
       "      <td>married</td>\n",
       "      <td>never</td>\n",
       "      <td>no</td>\n",
       "      <td>1.0</td>\n",
       "      <td>NaN</td>\n",
       "      <td>5 - 10</td>\n",
       "      <td>45</td>\n",
       "      <td>56</td>\n",
       "      <td>42</td>\n",
       "    </tr>\n",
       "    <tr>\n",
       "      <th>4</th>\n",
       "      <td>4</td>\n",
       "      <td>male</td>\n",
       "      <td>group C</td>\n",
       "      <td>some college</td>\n",
       "      <td>standard</td>\n",
       "      <td>none</td>\n",
       "      <td>married</td>\n",
       "      <td>sometimes</td>\n",
       "      <td>yes</td>\n",
       "      <td>0.0</td>\n",
       "      <td>school_bus</td>\n",
       "      <td>5 - 10</td>\n",
       "      <td>76</td>\n",
       "      <td>78</td>\n",
       "      <td>75</td>\n",
       "    </tr>\n",
       "    <tr>\n",
       "      <th>5</th>\n",
       "      <td>5</td>\n",
       "      <td>female</td>\n",
       "      <td>group B</td>\n",
       "      <td>associate's degree</td>\n",
       "      <td>standard</td>\n",
       "      <td>none</td>\n",
       "      <td>married</td>\n",
       "      <td>regularly</td>\n",
       "      <td>yes</td>\n",
       "      <td>1.0</td>\n",
       "      <td>school_bus</td>\n",
       "      <td>5 - 10</td>\n",
       "      <td>73</td>\n",
       "      <td>84</td>\n",
       "      <td>79</td>\n",
       "    </tr>\n",
       "    <tr>\n",
       "      <th>6</th>\n",
       "      <td>6</td>\n",
       "      <td>female</td>\n",
       "      <td>group B</td>\n",
       "      <td>some college</td>\n",
       "      <td>standard</td>\n",
       "      <td>completed</td>\n",
       "      <td>widowed</td>\n",
       "      <td>never</td>\n",
       "      <td>no</td>\n",
       "      <td>1.0</td>\n",
       "      <td>private</td>\n",
       "      <td>5 - 10</td>\n",
       "      <td>85</td>\n",
       "      <td>93</td>\n",
       "      <td>89</td>\n",
       "    </tr>\n",
       "    <tr>\n",
       "      <th>7</th>\n",
       "      <td>7</td>\n",
       "      <td>male</td>\n",
       "      <td>group B</td>\n",
       "      <td>some college</td>\n",
       "      <td>free/reduced</td>\n",
       "      <td>none</td>\n",
       "      <td>married</td>\n",
       "      <td>sometimes</td>\n",
       "      <td>yes</td>\n",
       "      <td>1.0</td>\n",
       "      <td>private</td>\n",
       "      <td>&gt; 10</td>\n",
       "      <td>41</td>\n",
       "      <td>43</td>\n",
       "      <td>39</td>\n",
       "    </tr>\n",
       "    <tr>\n",
       "      <th>8</th>\n",
       "      <td>8</td>\n",
       "      <td>male</td>\n",
       "      <td>group D</td>\n",
       "      <td>high school</td>\n",
       "      <td>free/reduced</td>\n",
       "      <td>completed</td>\n",
       "      <td>single</td>\n",
       "      <td>sometimes</td>\n",
       "      <td>no</td>\n",
       "      <td>3.0</td>\n",
       "      <td>private</td>\n",
       "      <td>&gt; 10</td>\n",
       "      <td>65</td>\n",
       "      <td>64</td>\n",
       "      <td>68</td>\n",
       "    </tr>\n",
       "    <tr>\n",
       "      <th>9</th>\n",
       "      <td>9</td>\n",
       "      <td>female</td>\n",
       "      <td>group B</td>\n",
       "      <td>high school</td>\n",
       "      <td>free/reduced</td>\n",
       "      <td>none</td>\n",
       "      <td>married</td>\n",
       "      <td>regularly</td>\n",
       "      <td>yes</td>\n",
       "      <td>NaN</td>\n",
       "      <td>private</td>\n",
       "      <td>&lt; 5</td>\n",
       "      <td>37</td>\n",
       "      <td>59</td>\n",
       "      <td>50</td>\n",
       "    </tr>\n",
       "    <tr>\n",
       "      <th>10</th>\n",
       "      <td>10</td>\n",
       "      <td>male</td>\n",
       "      <td>group C</td>\n",
       "      <td>associate's degree</td>\n",
       "      <td>standard</td>\n",
       "      <td>none</td>\n",
       "      <td>NaN</td>\n",
       "      <td>sometimes</td>\n",
       "      <td>yes</td>\n",
       "      <td>1.0</td>\n",
       "      <td>private</td>\n",
       "      <td>5 - 10</td>\n",
       "      <td>58</td>\n",
       "      <td>54</td>\n",
       "      <td>52</td>\n",
       "    </tr>\n",
       "    <tr>\n",
       "      <th>11</th>\n",
       "      <td>11</td>\n",
       "      <td>male</td>\n",
       "      <td>group D</td>\n",
       "      <td>associate's degree</td>\n",
       "      <td>standard</td>\n",
       "      <td>none</td>\n",
       "      <td>divorced</td>\n",
       "      <td>sometimes</td>\n",
       "      <td>yes</td>\n",
       "      <td>1.0</td>\n",
       "      <td>school_bus</td>\n",
       "      <td>5 - 10</td>\n",
       "      <td>40</td>\n",
       "      <td>52</td>\n",
       "      <td>43</td>\n",
       "    </tr>\n",
       "    <tr>\n",
       "      <th>12</th>\n",
       "      <td>12</td>\n",
       "      <td>female</td>\n",
       "      <td>group B</td>\n",
       "      <td>high school</td>\n",
       "      <td>standard</td>\n",
       "      <td>none</td>\n",
       "      <td>married</td>\n",
       "      <td>regularly</td>\n",
       "      <td>no</td>\n",
       "      <td>1.0</td>\n",
       "      <td>private</td>\n",
       "      <td>5 - 10</td>\n",
       "      <td>66</td>\n",
       "      <td>82</td>\n",
       "      <td>74</td>\n",
       "    </tr>\n",
       "    <tr>\n",
       "      <th>13</th>\n",
       "      <td>13</td>\n",
       "      <td>male</td>\n",
       "      <td>group A</td>\n",
       "      <td>some college</td>\n",
       "      <td>standard</td>\n",
       "      <td>completed</td>\n",
       "      <td>single</td>\n",
       "      <td>sometimes</td>\n",
       "      <td>yes</td>\n",
       "      <td>1.0</td>\n",
       "      <td>private</td>\n",
       "      <td>&gt; 10</td>\n",
       "      <td>80</td>\n",
       "      <td>73</td>\n",
       "      <td>71</td>\n",
       "    </tr>\n",
       "    <tr>\n",
       "      <th>14</th>\n",
       "      <td>14</td>\n",
       "      <td>female</td>\n",
       "      <td>group A</td>\n",
       "      <td>master's degree</td>\n",
       "      <td>standard</td>\n",
       "      <td>none</td>\n",
       "      <td>divorced</td>\n",
       "      <td>sometimes</td>\n",
       "      <td>yes</td>\n",
       "      <td>2.0</td>\n",
       "      <td>private</td>\n",
       "      <td>&lt; 5</td>\n",
       "      <td>48</td>\n",
       "      <td>53</td>\n",
       "      <td>58</td>\n",
       "    </tr>\n",
       "  </tbody>\n",
       "</table>\n",
       "</div>"
      ],
      "text/plain": [
       "    Unnamed: 0  Gender EthnicGroup          ParentEduc     LunchType  \\\n",
       "0            0  female         NaN   bachelor's degree      standard   \n",
       "1            1  female     group C        some college      standard   \n",
       "2            2  female     group B     master's degree      standard   \n",
       "3            3    male     group A  associate's degree  free/reduced   \n",
       "4            4    male     group C        some college      standard   \n",
       "5            5  female     group B  associate's degree      standard   \n",
       "6            6  female     group B        some college      standard   \n",
       "7            7    male     group B        some college  free/reduced   \n",
       "8            8    male     group D         high school  free/reduced   \n",
       "9            9  female     group B         high school  free/reduced   \n",
       "10          10    male     group C  associate's degree      standard   \n",
       "11          11    male     group D  associate's degree      standard   \n",
       "12          12  female     group B         high school      standard   \n",
       "13          13    male     group A        some college      standard   \n",
       "14          14  female     group A     master's degree      standard   \n",
       "\n",
       "     TestPrep ParentMaritalStatus PracticeSport IsFirstChild  NrSiblings  \\\n",
       "0        none             married     regularly          yes         3.0   \n",
       "1         NaN             married     sometimes          yes         0.0   \n",
       "2        none              single     sometimes          yes         4.0   \n",
       "3        none             married         never           no         1.0   \n",
       "4        none             married     sometimes          yes         0.0   \n",
       "5        none             married     regularly          yes         1.0   \n",
       "6   completed             widowed         never           no         1.0   \n",
       "7        none             married     sometimes          yes         1.0   \n",
       "8   completed              single     sometimes           no         3.0   \n",
       "9        none             married     regularly          yes         NaN   \n",
       "10       none                 NaN     sometimes          yes         1.0   \n",
       "11       none            divorced     sometimes          yes         1.0   \n",
       "12       none             married     regularly           no         1.0   \n",
       "13  completed              single     sometimes          yes         1.0   \n",
       "14       none            divorced     sometimes          yes         2.0   \n",
       "\n",
       "   TransportMeans WklyStudyHours  MathScore  ReadingScore  WritingScore  \n",
       "0      school_bus            < 5         71            71            74  \n",
       "1             NaN         5 - 10         69            90            88  \n",
       "2      school_bus            < 5         87            93            91  \n",
       "3             NaN         5 - 10         45            56            42  \n",
       "4      school_bus         5 - 10         76            78            75  \n",
       "5      school_bus         5 - 10         73            84            79  \n",
       "6         private         5 - 10         85            93            89  \n",
       "7         private           > 10         41            43            39  \n",
       "8         private           > 10         65            64            68  \n",
       "9         private            < 5         37            59            50  \n",
       "10        private         5 - 10         58            54            52  \n",
       "11     school_bus         5 - 10         40            52            43  \n",
       "12        private         5 - 10         66            82            74  \n",
       "13        private           > 10         80            73            71  \n",
       "14        private            < 5         48            53            58  "
      ]
     },
     "execution_count": 65,
     "metadata": {},
     "output_type": "execute_result"
    }
   ],
   "source": [
    "Mydta.head(15)"
   ]
  },
  {
   "cell_type": "markdown",
   "id": "4be64e21",
   "metadata": {},
   "source": [
    "# Looking for Missing Data"
   ]
  },
  {
   "cell_type": "code",
   "execution_count": 66,
   "id": "2639b7c1",
   "metadata": {},
   "outputs": [
    {
     "data": {
      "text/plain": [
       "<AxesSubplot:>"
      ]
     },
     "execution_count": 66,
     "metadata": {},
     "output_type": "execute_result"
    },
    {
     "data": {
      "image/png": "[encoded data removed]",
      "text/plain": [
       "<Figure size 432x288 with 1 Axes>"
      ]
     },
     "metadata": {
      "needs_background": "light"
     },
     "output_type": "display_data"
    }
   ],
   "source": [
    "sns.heatmap(Mydta.isnull(),yticklabels=False,cbar=False,cmap='viridis')"
   ]
  },
  {
   "cell_type": "markdown",
   "id": "7784ce62",
   "metadata": {},
   "source": [
    "# Remove or drop from our dataset\n",
    "EthnicGroup: less missing data, however, the variable doesnot to great extend have much impact on student performance. \n",
    "\n",
    "PracticeSport: less missing data, however, the variable doesnot to great extend have much impact on student performance. \n",
    "\n",
    "IsFirstChild: less missing data, however, the variable doesnot to great extend have much impact on student performance. \n",
    "\n",
    "TransportMeans: too much missing data plus the variable doesnot to great extend have much impact on student performance."
   ]
  },
  {
   "cell_type": "markdown",
   "id": "16cc06b2",
   "metadata": {},
   "source": [
    "# Non-Missing Data to Drop or Maintain\n",
    "\n",
    "We will drop LunchType as it is insignificant to student performance, while we maintain the following; Gender, MathScore, ReadingScore, WritingScore as significant determinants of student performance\n"
   ]
  },
  {
   "cell_type": "code",
   "execution_count": 67,
   "id": "4708179d",
   "metadata": {},
   "outputs": [],
   "source": [
    "Mydta.drop(['EthnicGroup','PracticeSport','IsFirstChild','TransportMeans','LunchType'],axis=1,inplace=True)"
   ]
  },
  {
   "cell_type": "markdown",
   "id": "612aa9ec",
   "metadata": {},
   "source": [
    "# Maintaing in our dataset via imputation\n",
    "\n",
    "Since missing values are not much, we will add the following by computing their mean and input the value to the missing data as they sugnificantly impact student performances. ParentEduc, TestPrep, ParentMaritalstatus, NiSiblings, WklyStudyHours.\n"
   ]
  },
  {
   "cell_type": "markdown",
   "id": "2b771c79",
   "metadata": {},
   "source": [
    "# Fixing Missing Data by Imputation\n",
    "\n",
    "We will use the different imputation methods to fix our missing data either as float, objects or integers, then adjust our dataset.\n"
   ]
  },
  {
   "cell_type": "markdown",
   "id": "2ae81027",
   "metadata": {},
   "source": [
    "# Mean Imputation\n",
    "We will use mean imputation for integers and from our dataset, we have NrSiblings as the only integer with missing value"
   ]
  },
  {
   "cell_type": "code",
   "execution_count": 68,
   "id": "5d49331a",
   "metadata": {},
   "outputs": [
    {
     "data": {
      "text/plain": [
       "2.1458942516082424"
      ]
     },
     "execution_count": 68,
     "metadata": {},
     "output_type": "execute_result"
    }
   ],
   "source": [
    "Mydta.NrSiblings.mean()"
   ]
  },
  {
   "cell_type": "code",
   "execution_count": 69,
   "id": "e9ad58d3",
   "metadata": {},
   "outputs": [],
   "source": [
    "Mydta['NrSiblings'] = Mydta['NrSiblings'].fillna(2.2)"
   ]
  },
  {
   "cell_type": "markdown",
   "id": "350df2f2",
   "metadata": {},
   "source": [
    "# Mode Imputation\n",
    "We will use mode imputation to fill missing data in categorical type and from our dataset, we have; ParentMaritalStatus and TestPrep."
   ]
  },
  {
   "cell_type": "code",
   "execution_count": 70,
   "id": "8a504f4d",
   "metadata": {},
   "outputs": [
    {
     "data": {
      "text/plain": [
       "0    married\n",
       "dtype: object"
      ]
     },
     "execution_count": 70,
     "metadata": {},
     "output_type": "execute_result"
    }
   ],
   "source": [
    "Mydta.ParentMaritalStatus.mode()"
   ]
  },
  {
   "cell_type": "code",
   "execution_count": 71,
   "id": "69ed507a",
   "metadata": {},
   "outputs": [],
   "source": [
    "Mydta['ParentMaritalStatus'] = Mydta['ParentMaritalStatus'].fillna('married')"
   ]
  },
  {
   "cell_type": "code",
   "execution_count": 72,
   "id": "ccaedf34",
   "metadata": {},
   "outputs": [
    {
     "data": {
      "text/plain": [
       "0    none\n",
       "dtype: object"
      ]
     },
     "execution_count": 72,
     "metadata": {},
     "output_type": "execute_result"
    }
   ],
   "source": [
    "Mydta.TestPrep.mode()"
   ]
  },
  {
   "cell_type": "code",
   "execution_count": 73,
   "id": "2c269b0c",
   "metadata": {},
   "outputs": [],
   "source": [
    "Mydta['TestPrep'] = Mydta['TestPrep'].fillna('none')"
   ]
  },
  {
   "cell_type": "markdown",
   "id": "a75540d5",
   "metadata": {},
   "source": [
    "# Converting Categorical Features"
   ]
  },
  {
   "cell_type": "code",
   "execution_count": 74,
   "id": "86d2b627",
   "metadata": {},
   "outputs": [],
   "source": [
    "gender= pd.get_dummies(Mydta[\"Gender\"],drop_first=True)"
   ]
  },
  {
   "cell_type": "code",
   "execution_count": 75,
   "id": "ce71ffae",
   "metadata": {},
   "outputs": [],
   "source": [
    "Mydta= pd.concat([Mydta,gender], axis=1)"
   ]
  },
  {
   "cell_type": "code",
   "execution_count": 76,
   "id": "aa3e0eed",
   "metadata": {},
   "outputs": [],
   "source": [
    "Mydta.drop(['Gender'],axis=1,inplace=True)"
   ]
  },
  {
   "cell_type": "code",
   "execution_count": 77,
   "id": "cea893fa",
   "metadata": {},
   "outputs": [
    {
     "data": {
      "text/html": [
       "<div>\n",
       "<style scoped>\n",
       "    .dataframe tbody tr th:only-of-type {\n",
       "        vertical-align: middle;\n",
       "    }\n",
       "\n",
       "    .dataframe tbody tr th {\n",
       "        vertical-align: top;\n",
       "    }\n",
       "\n",
       "    .dataframe thead th {\n",
       "        text-align: right;\n",
       "    }\n",
       "</style>\n",
       "<table border=\"1\" class=\"dataframe\">\n",
       "  <thead>\n",
       "    <tr style=\"text-align: right;\">\n",
       "      <th></th>\n",
       "      <th>Unnamed: 0</th>\n",
       "      <th>ParentEduc</th>\n",
       "      <th>TestPrep</th>\n",
       "      <th>ParentMaritalStatus</th>\n",
       "      <th>NrSiblings</th>\n",
       "      <th>WklyStudyHours</th>\n",
       "      <th>MathScore</th>\n",
       "      <th>ReadingScore</th>\n",
       "      <th>WritingScore</th>\n",
       "      <th>male</th>\n",
       "    </tr>\n",
       "  </thead>\n",
       "  <tbody>\n",
       "    <tr>\n",
       "      <th>0</th>\n",
       "      <td>0</td>\n",
       "      <td>bachelor's degree</td>\n",
       "      <td>none</td>\n",
       "      <td>married</td>\n",
       "      <td>3.0</td>\n",
       "      <td>&lt; 5</td>\n",
       "      <td>71</td>\n",
       "      <td>71</td>\n",
       "      <td>74</td>\n",
       "      <td>0</td>\n",
       "    </tr>\n",
       "    <tr>\n",
       "      <th>1</th>\n",
       "      <td>1</td>\n",
       "      <td>some college</td>\n",
       "      <td>none</td>\n",
       "      <td>married</td>\n",
       "      <td>0.0</td>\n",
       "      <td>5 - 10</td>\n",
       "      <td>69</td>\n",
       "      <td>90</td>\n",
       "      <td>88</td>\n",
       "      <td>0</td>\n",
       "    </tr>\n",
       "    <tr>\n",
       "      <th>2</th>\n",
       "      <td>2</td>\n",
       "      <td>master's degree</td>\n",
       "      <td>none</td>\n",
       "      <td>single</td>\n",
       "      <td>4.0</td>\n",
       "      <td>&lt; 5</td>\n",
       "      <td>87</td>\n",
       "      <td>93</td>\n",
       "      <td>91</td>\n",
       "      <td>0</td>\n",
       "    </tr>\n",
       "    <tr>\n",
       "      <th>3</th>\n",
       "      <td>3</td>\n",
       "      <td>associate's degree</td>\n",
       "      <td>none</td>\n",
       "      <td>married</td>\n",
       "      <td>1.0</td>\n",
       "      <td>5 - 10</td>\n",
       "      <td>45</td>\n",
       "      <td>56</td>\n",
       "      <td>42</td>\n",
       "      <td>1</td>\n",
       "    </tr>\n",
       "    <tr>\n",
       "      <th>4</th>\n",
       "      <td>4</td>\n",
       "      <td>some college</td>\n",
       "      <td>none</td>\n",
       "      <td>married</td>\n",
       "      <td>0.0</td>\n",
       "      <td>5 - 10</td>\n",
       "      <td>76</td>\n",
       "      <td>78</td>\n",
       "      <td>75</td>\n",
       "      <td>1</td>\n",
       "    </tr>\n",
       "    <tr>\n",
       "      <th>5</th>\n",
       "      <td>5</td>\n",
       "      <td>associate's degree</td>\n",
       "      <td>none</td>\n",
       "      <td>married</td>\n",
       "      <td>1.0</td>\n",
       "      <td>5 - 10</td>\n",
       "      <td>73</td>\n",
       "      <td>84</td>\n",
       "      <td>79</td>\n",
       "      <td>0</td>\n",
       "    </tr>\n",
       "    <tr>\n",
       "      <th>6</th>\n",
       "      <td>6</td>\n",
       "      <td>some college</td>\n",
       "      <td>completed</td>\n",
       "      <td>widowed</td>\n",
       "      <td>1.0</td>\n",
       "      <td>5 - 10</td>\n",
       "      <td>85</td>\n",
       "      <td>93</td>\n",
       "      <td>89</td>\n",
       "      <td>0</td>\n",
       "    </tr>\n",
       "    <tr>\n",
       "      <th>7</th>\n",
       "      <td>7</td>\n",
       "      <td>some college</td>\n",
       "      <td>none</td>\n",
       "      <td>married</td>\n",
       "      <td>1.0</td>\n",
       "      <td>&gt; 10</td>\n",
       "      <td>41</td>\n",
       "      <td>43</td>\n",
       "      <td>39</td>\n",
       "      <td>1</td>\n",
       "    </tr>\n",
       "    <tr>\n",
       "      <th>8</th>\n",
       "      <td>8</td>\n",
       "      <td>high school</td>\n",
       "      <td>completed</td>\n",
       "      <td>single</td>\n",
       "      <td>3.0</td>\n",
       "      <td>&gt; 10</td>\n",
       "      <td>65</td>\n",
       "      <td>64</td>\n",
       "      <td>68</td>\n",
       "      <td>1</td>\n",
       "    </tr>\n",
       "    <tr>\n",
       "      <th>9</th>\n",
       "      <td>9</td>\n",
       "      <td>high school</td>\n",
       "      <td>none</td>\n",
       "      <td>married</td>\n",
       "      <td>2.2</td>\n",
       "      <td>&lt; 5</td>\n",
       "      <td>37</td>\n",
       "      <td>59</td>\n",
       "      <td>50</td>\n",
       "      <td>0</td>\n",
       "    </tr>\n",
       "    <tr>\n",
       "      <th>10</th>\n",
       "      <td>10</td>\n",
       "      <td>associate's degree</td>\n",
       "      <td>none</td>\n",
       "      <td>married</td>\n",
       "      <td>1.0</td>\n",
       "      <td>5 - 10</td>\n",
       "      <td>58</td>\n",
       "      <td>54</td>\n",
       "      <td>52</td>\n",
       "      <td>1</td>\n",
       "    </tr>\n",
       "    <tr>\n",
       "      <th>11</th>\n",
       "      <td>11</td>\n",
       "      <td>associate's degree</td>\n",
       "      <td>none</td>\n",
       "      <td>divorced</td>\n",
       "      <td>1.0</td>\n",
       "      <td>5 - 10</td>\n",
       "      <td>40</td>\n",
       "      <td>52</td>\n",
       "      <td>43</td>\n",
       "      <td>1</td>\n",
       "    </tr>\n",
       "    <tr>\n",
       "      <th>12</th>\n",
       "      <td>12</td>\n",
       "      <td>high school</td>\n",
       "      <td>none</td>\n",
       "      <td>married</td>\n",
       "      <td>1.0</td>\n",
       "      <td>5 - 10</td>\n",
       "      <td>66</td>\n",
       "      <td>82</td>\n",
       "      <td>74</td>\n",
       "      <td>0</td>\n",
       "    </tr>\n",
       "    <tr>\n",
       "      <th>13</th>\n",
       "      <td>13</td>\n",
       "      <td>some college</td>\n",
       "      <td>completed</td>\n",
       "      <td>single</td>\n",
       "      <td>1.0</td>\n",
       "      <td>&gt; 10</td>\n",
       "      <td>80</td>\n",
       "      <td>73</td>\n",
       "      <td>71</td>\n",
       "      <td>1</td>\n",
       "    </tr>\n",
       "    <tr>\n",
       "      <th>14</th>\n",
       "      <td>14</td>\n",
       "      <td>master's degree</td>\n",
       "      <td>none</td>\n",
       "      <td>divorced</td>\n",
       "      <td>2.0</td>\n",
       "      <td>&lt; 5</td>\n",
       "      <td>48</td>\n",
       "      <td>53</td>\n",
       "      <td>58</td>\n",
       "      <td>0</td>\n",
       "    </tr>\n",
       "  </tbody>\n",
       "</table>\n",
       "</div>"
      ],
      "text/plain": [
       "    Unnamed: 0          ParentEduc   TestPrep ParentMaritalStatus  NrSiblings  \\\n",
       "0            0   bachelor's degree       none             married         3.0   \n",
       "1            1        some college       none             married         0.0   \n",
       "2            2     master's degree       none              single         4.0   \n",
       "3            3  associate's degree       none             married         1.0   \n",
       "4            4        some college       none             married         0.0   \n",
       "5            5  associate's degree       none             married         1.0   \n",
       "6            6        some college  completed             widowed         1.0   \n",
       "7            7        some college       none             married         1.0   \n",
       "8            8         high school  completed              single         3.0   \n",
       "9            9         high school       none             married         2.2   \n",
       "10          10  associate's degree       none             married         1.0   \n",
       "11          11  associate's degree       none            divorced         1.0   \n",
       "12          12         high school       none             married         1.0   \n",
       "13          13        some college  completed              single         1.0   \n",
       "14          14     master's degree       none            divorced         2.0   \n",
       "\n",
       "   WklyStudyHours  MathScore  ReadingScore  WritingScore  male  \n",
       "0             < 5         71            71            74     0  \n",
       "1          5 - 10         69            90            88     0  \n",
       "2             < 5         87            93            91     0  \n",
       "3          5 - 10         45            56            42     1  \n",
       "4          5 - 10         76            78            75     1  \n",
       "5          5 - 10         73            84            79     0  \n",
       "6          5 - 10         85            93            89     0  \n",
       "7            > 10         41            43            39     1  \n",
       "8            > 10         65            64            68     1  \n",
       "9             < 5         37            59            50     0  \n",
       "10         5 - 10         58            54            52     1  \n",
       "11         5 - 10         40            52            43     1  \n",
       "12         5 - 10         66            82            74     0  \n",
       "13           > 10         80            73            71     1  \n",
       "14            < 5         48            53            58     0  "
      ]
     },
     "execution_count": 77,
     "metadata": {},
     "output_type": "execute_result"
    }
   ],
   "source": [
    "Mydta.head(15)"
   ]
  },
  {
   "cell_type": "code",
   "execution_count": 78,
   "id": "c31d1329",
   "metadata": {},
   "outputs": [
    {
     "data": {
      "text/html": [
       "<div>\n",
       "<style scoped>\n",
       "    .dataframe tbody tr th:only-of-type {\n",
       "        vertical-align: middle;\n",
       "    }\n",
       "\n",
       "    .dataframe tbody tr th {\n",
       "        vertical-align: top;\n",
       "    }\n",
       "\n",
       "    .dataframe thead th {\n",
       "        text-align: right;\n",
       "    }\n",
       "</style>\n",
       "<table border=\"1\" class=\"dataframe\">\n",
       "  <thead>\n",
       "    <tr style=\"text-align: right;\">\n",
       "      <th></th>\n",
       "      <th>Unnamed: 0</th>\n",
       "      <th>ParentEduc</th>\n",
       "      <th>TestPrep</th>\n",
       "      <th>ParentMaritalStatus</th>\n",
       "      <th>NrSiblings</th>\n",
       "      <th>WklyStudyHours</th>\n",
       "      <th>MathScore</th>\n",
       "      <th>ReadingScore</th>\n",
       "      <th>WritingScore</th>\n",
       "      <th>male</th>\n",
       "    </tr>\n",
       "  </thead>\n",
       "  <tbody>\n",
       "    <tr>\n",
       "      <th>0</th>\n",
       "      <td>False</td>\n",
       "      <td>False</td>\n",
       "      <td>False</td>\n",
       "      <td>False</td>\n",
       "      <td>False</td>\n",
       "      <td>False</td>\n",
       "      <td>False</td>\n",
       "      <td>False</td>\n",
       "      <td>False</td>\n",
       "      <td>False</td>\n",
       "    </tr>\n",
       "    <tr>\n",
       "      <th>1</th>\n",
       "      <td>False</td>\n",
       "      <td>False</td>\n",
       "      <td>False</td>\n",
       "      <td>False</td>\n",
       "      <td>False</td>\n",
       "      <td>False</td>\n",
       "      <td>False</td>\n",
       "      <td>False</td>\n",
       "      <td>False</td>\n",
       "      <td>False</td>\n",
       "    </tr>\n",
       "    <tr>\n",
       "      <th>2</th>\n",
       "      <td>False</td>\n",
       "      <td>False</td>\n",
       "      <td>False</td>\n",
       "      <td>False</td>\n",
       "      <td>False</td>\n",
       "      <td>False</td>\n",
       "      <td>False</td>\n",
       "      <td>False</td>\n",
       "      <td>False</td>\n",
       "      <td>False</td>\n",
       "    </tr>\n",
       "    <tr>\n",
       "      <th>3</th>\n",
       "      <td>False</td>\n",
       "      <td>False</td>\n",
       "      <td>False</td>\n",
       "      <td>False</td>\n",
       "      <td>False</td>\n",
       "      <td>False</td>\n",
       "      <td>False</td>\n",
       "      <td>False</td>\n",
       "      <td>False</td>\n",
       "      <td>False</td>\n",
       "    </tr>\n",
       "    <tr>\n",
       "      <th>4</th>\n",
       "      <td>False</td>\n",
       "      <td>False</td>\n",
       "      <td>False</td>\n",
       "      <td>False</td>\n",
       "      <td>False</td>\n",
       "      <td>False</td>\n",
       "      <td>False</td>\n",
       "      <td>False</td>\n",
       "      <td>False</td>\n",
       "      <td>False</td>\n",
       "    </tr>\n",
       "    <tr>\n",
       "      <th>...</th>\n",
       "      <td>...</td>\n",
       "      <td>...</td>\n",
       "      <td>...</td>\n",
       "      <td>...</td>\n",
       "      <td>...</td>\n",
       "      <td>...</td>\n",
       "      <td>...</td>\n",
       "      <td>...</td>\n",
       "      <td>...</td>\n",
       "      <td>...</td>\n",
       "    </tr>\n",
       "    <tr>\n",
       "      <th>30636</th>\n",
       "      <td>False</td>\n",
       "      <td>False</td>\n",
       "      <td>False</td>\n",
       "      <td>False</td>\n",
       "      <td>False</td>\n",
       "      <td>False</td>\n",
       "      <td>False</td>\n",
       "      <td>False</td>\n",
       "      <td>False</td>\n",
       "      <td>False</td>\n",
       "    </tr>\n",
       "    <tr>\n",
       "      <th>30637</th>\n",
       "      <td>False</td>\n",
       "      <td>False</td>\n",
       "      <td>False</td>\n",
       "      <td>False</td>\n",
       "      <td>False</td>\n",
       "      <td>False</td>\n",
       "      <td>False</td>\n",
       "      <td>False</td>\n",
       "      <td>False</td>\n",
       "      <td>False</td>\n",
       "    </tr>\n",
       "    <tr>\n",
       "      <th>30638</th>\n",
       "      <td>False</td>\n",
       "      <td>False</td>\n",
       "      <td>False</td>\n",
       "      <td>False</td>\n",
       "      <td>False</td>\n",
       "      <td>False</td>\n",
       "      <td>False</td>\n",
       "      <td>False</td>\n",
       "      <td>False</td>\n",
       "      <td>False</td>\n",
       "    </tr>\n",
       "    <tr>\n",
       "      <th>30639</th>\n",
       "      <td>False</td>\n",
       "      <td>False</td>\n",
       "      <td>False</td>\n",
       "      <td>False</td>\n",
       "      <td>False</td>\n",
       "      <td>False</td>\n",
       "      <td>False</td>\n",
       "      <td>False</td>\n",
       "      <td>False</td>\n",
       "      <td>False</td>\n",
       "    </tr>\n",
       "    <tr>\n",
       "      <th>30640</th>\n",
       "      <td>False</td>\n",
       "      <td>False</td>\n",
       "      <td>False</td>\n",
       "      <td>False</td>\n",
       "      <td>False</td>\n",
       "      <td>False</td>\n",
       "      <td>False</td>\n",
       "      <td>False</td>\n",
       "      <td>False</td>\n",
       "      <td>False</td>\n",
       "    </tr>\n",
       "  </tbody>\n",
       "</table>\n",
       "<p>30641 rows × 10 columns</p>\n",
       "</div>"
      ],
      "text/plain": [
       "       Unnamed: 0  ParentEduc  TestPrep  ParentMaritalStatus  NrSiblings  \\\n",
       "0           False       False     False                False       False   \n",
       "1           False       False     False                False       False   \n",
       "2           False       False     False                False       False   \n",
       "3           False       False     False                False       False   \n",
       "4           False       False     False                False       False   \n",
       "...           ...         ...       ...                  ...         ...   \n",
       "30636       False       False     False                False       False   \n",
       "30637       False       False     False                False       False   \n",
       "30638       False       False     False                False       False   \n",
       "30639       False       False     False                False       False   \n",
       "30640       False       False     False                False       False   \n",
       "\n",
       "       WklyStudyHours  MathScore  ReadingScore  WritingScore   male  \n",
       "0               False      False         False         False  False  \n",
       "1               False      False         False         False  False  \n",
       "2               False      False         False         False  False  \n",
       "3               False      False         False         False  False  \n",
       "4               False      False         False         False  False  \n",
       "...               ...        ...           ...           ...    ...  \n",
       "30636           False      False         False         False  False  \n",
       "30637           False      False         False         False  False  \n",
       "30638           False      False         False         False  False  \n",
       "30639           False      False         False         False  False  \n",
       "30640           False      False         False         False  False  \n",
       "\n",
       "[30641 rows x 10 columns]"
      ]
     },
     "execution_count": 78,
     "metadata": {},
     "output_type": "execute_result"
    }
   ],
   "source": [
    "Mydta.isnull()"
   ]
  },
  {
   "cell_type": "markdown",
   "id": "fe7fa2f8",
   "metadata": {},
   "source": [
    "# Installing Cufflinks for plots"
   ]
  },
  {
   "cell_type": "code",
   "execution_count": 20,
   "id": "195b0bbe",
   "metadata": {},
   "outputs": [
    {
     "name": "stdout",
     "output_type": "stream",
     "text": [
      "Requirement already satisfied: cufflinks in c:\\users\\my pc\\anaconda3\\lib\\site-packages (0.17.3)Note: you may need to restart the kernel to use updated packages.\n",
      "Requirement already satisfied: setuptools>=34.4.1 in c:\\users\\my pc\\anaconda3\\lib\\site-packages (from cufflinks) (58.0.4)\n",
      "Requirement already satisfied: numpy>=1.9.2 in c:\\users\\my pc\\anaconda3\\lib\\site-packages (from cufflinks) (1.20.3)\n",
      "Requirement already satisfied: plotly>=4.1.1 in c:\\users\\my pc\\anaconda3\\lib\\site-packages (from cufflinks) (5.17.0)\n",
      "Requirement already satisfied: colorlover>=0.2.1 in c:\\users\\my pc\\anaconda3\\lib\\site-packages (from cufflinks) (0.3.0)\n",
      "Requirement already satisfied: pandas>=0.19.2 in c:\\users\\my pc\\anaconda3\\lib\\site-packages (from cufflinks) (1.3.4)\n",
      "Requirement already satisfied: ipywidgets>=7.0.0 in c:\\users\\my pc\\anaconda3\\lib\\site-packages (from cufflinks) (7.6.5)\n",
      "Requirement already satisfied: ipython>=5.3.0 in c:\\users\\my pc\\anaconda3\\lib\\site-packages (from cufflinks) (7.29.0)\n",
      "Requirement already satisfied: six>=1.9.0 in c:\\users\\my pc\\anaconda3\\lib\\site-packages (from cufflinks) (1.16.0)\n",
      "Requirement already satisfied: traitlets>=4.2 in c:\\users\\my pc\\anaconda3\\lib\\site-packages (from ipython>=5.3.0->cufflinks) (5.1.0)\n",
      "\n",
      "Requirement already satisfied: decorator in c:\\users\\my pc\\anaconda3\\lib\\site-packages (from ipython>=5.3.0->cufflinks) (5.1.0)\n",
      "Requirement already satisfied: pygments in c:\\users\\my pc\\anaconda3\\lib\\site-packages (from ipython>=5.3.0->cufflinks) (2.10.0)\n",
      "Requirement already satisfied: prompt-toolkit!=3.0.0,!=3.0.1,<3.1.0,>=2.0.0 in c:\\users\\my pc\\anaconda3\\lib\\site-packages (from ipython>=5.3.0->cufflinks) (3.0.20)\n",
      "Requirement already satisfied: pickleshare in c:\\users\\my pc\\anaconda3\\lib\\site-packages (from ipython>=5.3.0->cufflinks) (0.7.5)\n",
      "Requirement already satisfied: backcall in c:\\users\\my pc\\anaconda3\\lib\\site-packages (from ipython>=5.3.0->cufflinks) (0.2.0)\n",
      "Requirement already satisfied: colorama in c:\\users\\my pc\\anaconda3\\lib\\site-packages (from ipython>=5.3.0->cufflinks) (0.4.4)\n",
      "Requirement already satisfied: matplotlib-inline in c:\\users\\my pc\\anaconda3\\lib\\site-packages (from ipython>=5.3.0->cufflinks) (0.1.2)\n",
      "Requirement already satisfied: jedi>=0.16 in c:\\users\\my pc\\anaconda3\\lib\\site-packages (from ipython>=5.3.0->cufflinks) (0.18.0)\n",
      "Requirement already satisfied: ipython-genutils~=0.2.0 in c:\\users\\my pc\\anaconda3\\lib\\site-packages (from ipywidgets>=7.0.0->cufflinks) (0.2.0)\n",
      "Requirement already satisfied: jupyterlab-widgets>=1.0.0 in c:\\users\\my pc\\anaconda3\\lib\\site-packages (from ipywidgets>=7.0.0->cufflinks) (1.0.0)\n",
      "Requirement already satisfied: ipykernel>=4.5.1 in c:\\users\\my pc\\anaconda3\\lib\\site-packages (from ipywidgets>=7.0.0->cufflinks) (6.4.1)\n",
      "Requirement already satisfied: widgetsnbextension~=3.5.0 in c:\\users\\my pc\\anaconda3\\lib\\site-packages (from ipywidgets>=7.0.0->cufflinks) (3.5.1)\n",
      "Requirement already satisfied: nbformat>=4.2.0 in c:\\users\\my pc\\anaconda3\\lib\\site-packages (from ipywidgets>=7.0.0->cufflinks) (5.1.3)\n",
      "Requirement already satisfied: tornado<7.0,>=4.2 in c:\\users\\my pc\\anaconda3\\lib\\site-packages (from ipykernel>=4.5.1->ipywidgets>=7.0.0->cufflinks) (6.1)\n",
      "Requirement already satisfied: jupyter-client<8.0 in c:\\users\\my pc\\anaconda3\\lib\\site-packages (from ipykernel>=4.5.1->ipywidgets>=7.0.0->cufflinks) (6.1.12)\n",
      "Requirement already satisfied: debugpy<2.0,>=1.0.0 in c:\\users\\my pc\\anaconda3\\lib\\site-packages (from ipykernel>=4.5.1->ipywidgets>=7.0.0->cufflinks) (1.4.1)\n",
      "Requirement already satisfied: parso<0.9.0,>=0.8.0 in c:\\users\\my pc\\anaconda3\\lib\\site-packages (from jedi>=0.16->ipython>=5.3.0->cufflinks) (0.8.2)\n",
      "Requirement already satisfied: python-dateutil>=2.1 in c:\\users\\my pc\\anaconda3\\lib\\site-packages (from jupyter-client<8.0->ipykernel>=4.5.1->ipywidgets>=7.0.0->cufflinks) (2.8.2)\n",
      "Requirement already satisfied: pyzmq>=13 in c:\\users\\my pc\\anaconda3\\lib\\site-packages (from jupyter-client<8.0->ipykernel>=4.5.1->ipywidgets>=7.0.0->cufflinks) (22.2.1)\n",
      "Requirement already satisfied: jupyter-core>=4.6.0 in c:\\users\\my pc\\anaconda3\\lib\\site-packages (from jupyter-client<8.0->ipykernel>=4.5.1->ipywidgets>=7.0.0->cufflinks) (4.8.1)\n",
      "Requirement already satisfied: pywin32>=1.0 in c:\\users\\my pc\\anaconda3\\lib\\site-packages (from jupyter-core>=4.6.0->jupyter-client<8.0->ipykernel>=4.5.1->ipywidgets>=7.0.0->cufflinks) (228)\n",
      "Requirement already satisfied: jsonschema!=2.5.0,>=2.4 in c:\\users\\my pc\\anaconda3\\lib\\site-packages (from nbformat>=4.2.0->ipywidgets>=7.0.0->cufflinks) (3.2.0)\n",
      "Requirement already satisfied: attrs>=17.4.0 in c:\\users\\my pc\\anaconda3\\lib\\site-packages (from jsonschema!=2.5.0,>=2.4->nbformat>=4.2.0->ipywidgets>=7.0.0->cufflinks) (21.2.0)\n",
      "Requirement already satisfied: pyrsistent>=0.14.0 in c:\\users\\my pc\\anaconda3\\lib\\site-packages (from jsonschema!=2.5.0,>=2.4->nbformat>=4.2.0->ipywidgets>=7.0.0->cufflinks) (0.18.0)\n",
      "Requirement already satisfied: pytz>=2017.3 in c:\\users\\my pc\\anaconda3\\lib\\site-packages (from pandas>=0.19.2->cufflinks) (2021.3)\n",
      "Requirement already satisfied: tenacity>=6.2.0 in c:\\users\\my pc\\anaconda3\\lib\\site-packages (from plotly>=4.1.1->cufflinks) (8.2.3)\n",
      "Requirement already satisfied: packaging in c:\\users\\my pc\\anaconda3\\lib\\site-packages (from plotly>=4.1.1->cufflinks) (21.0)\n",
      "Requirement already satisfied: wcwidth in c:\\users\\my pc\\anaconda3\\lib\\site-packages (from prompt-toolkit!=3.0.0,!=3.0.1,<3.1.0,>=2.0.0->ipython>=5.3.0->cufflinks) (0.2.5)\n",
      "Requirement already satisfied: notebook>=4.4.1 in c:\\users\\my pc\\anaconda3\\lib\\site-packages (from widgetsnbextension~=3.5.0->ipywidgets>=7.0.0->cufflinks) (6.4.5)\n",
      "Requirement already satisfied: Send2Trash>=1.5.0 in c:\\users\\my pc\\anaconda3\\lib\\site-packages (from notebook>=4.4.1->widgetsnbextension~=3.5.0->ipywidgets>=7.0.0->cufflinks) (1.8.0)\n",
      "Requirement already satisfied: argon2-cffi in c:\\users\\my pc\\anaconda3\\lib\\site-packages (from notebook>=4.4.1->widgetsnbextension~=3.5.0->ipywidgets>=7.0.0->cufflinks) (20.1.0)\n",
      "Requirement already satisfied: terminado>=0.8.3 in c:\\users\\my pc\\anaconda3\\lib\\site-packages (from notebook>=4.4.1->widgetsnbextension~=3.5.0->ipywidgets>=7.0.0->cufflinks) (0.9.4)\n",
      "Requirement already satisfied: prometheus-client in c:\\users\\my pc\\anaconda3\\lib\\site-packages (from notebook>=4.4.1->widgetsnbextension~=3.5.0->ipywidgets>=7.0.0->cufflinks) (0.11.0)\n",
      "Requirement already satisfied: jinja2 in c:\\users\\my pc\\anaconda3\\lib\\site-packages (from notebook>=4.4.1->widgetsnbextension~=3.5.0->ipywidgets>=7.0.0->cufflinks) (2.11.3)\n",
      "Requirement already satisfied: nbconvert in c:\\users\\my pc\\anaconda3\\lib\\site-packages (from notebook>=4.4.1->widgetsnbextension~=3.5.0->ipywidgets>=7.0.0->cufflinks) (6.1.0)\n",
      "Requirement already satisfied: pywinpty>=0.5 in c:\\users\\my pc\\anaconda3\\lib\\site-packages (from terminado>=0.8.3->notebook>=4.4.1->widgetsnbextension~=3.5.0->ipywidgets>=7.0.0->cufflinks) (0.5.7)\n",
      "Requirement already satisfied: cffi>=1.0.0 in c:\\users\\my pc\\anaconda3\\lib\\site-packages (from argon2-cffi->notebook>=4.4.1->widgetsnbextension~=3.5.0->ipywidgets>=7.0.0->cufflinks) (1.14.6)\n",
      "Requirement already satisfied: pycparser in c:\\users\\my pc\\anaconda3\\lib\\site-packages (from cffi>=1.0.0->argon2-cffi->notebook>=4.4.1->widgetsnbextension~=3.5.0->ipywidgets>=7.0.0->cufflinks) (2.20)\n",
      "Requirement already satisfied: MarkupSafe>=0.23 in c:\\users\\my pc\\anaconda3\\lib\\site-packages (from jinja2->notebook>=4.4.1->widgetsnbextension~=3.5.0->ipywidgets>=7.0.0->cufflinks) (1.1.1)\n",
      "Requirement already satisfied: bleach in c:\\users\\my pc\\anaconda3\\lib\\site-packages (from nbconvert->notebook>=4.4.1->widgetsnbextension~=3.5.0->ipywidgets>=7.0.0->cufflinks) (4.0.0)\n",
      "Requirement already satisfied: mistune<2,>=0.8.1 in c:\\users\\my pc\\anaconda3\\lib\\site-packages (from nbconvert->notebook>=4.4.1->widgetsnbextension~=3.5.0->ipywidgets>=7.0.0->cufflinks) (0.8.4)\n",
      "Requirement already satisfied: entrypoints>=0.2.2 in c:\\users\\my pc\\anaconda3\\lib\\site-packages (from nbconvert->notebook>=4.4.1->widgetsnbextension~=3.5.0->ipywidgets>=7.0.0->cufflinks) (0.3)\n",
      "Requirement already satisfied: pandocfilters>=1.4.1 in c:\\users\\my pc\\anaconda3\\lib\\site-packages (from nbconvert->notebook>=4.4.1->widgetsnbextension~=3.5.0->ipywidgets>=7.0.0->cufflinks) (1.4.3)\n",
      "Requirement already satisfied: nbclient<0.6.0,>=0.5.0 in c:\\users\\my pc\\anaconda3\\lib\\site-packages (from nbconvert->notebook>=4.4.1->widgetsnbextension~=3.5.0->ipywidgets>=7.0.0->cufflinks) (0.5.3)\n",
      "Requirement already satisfied: defusedxml in c:\\users\\my pc\\anaconda3\\lib\\site-packages (from nbconvert->notebook>=4.4.1->widgetsnbextension~=3.5.0->ipywidgets>=7.0.0->cufflinks) (0.7.1)\n",
      "Requirement already satisfied: jupyterlab-pygments in c:\\users\\my pc\\anaconda3\\lib\\site-packages (from nbconvert->notebook>=4.4.1->widgetsnbextension~=3.5.0->ipywidgets>=7.0.0->cufflinks) (0.1.2)\n",
      "Requirement already satisfied: testpath in c:\\users\\my pc\\anaconda3\\lib\\site-packages (from nbconvert->notebook>=4.4.1->widgetsnbextension~=3.5.0->ipywidgets>=7.0.0->cufflinks) (0.5.0)\n",
      "Requirement already satisfied: async-generator in c:\\users\\my pc\\anaconda3\\lib\\site-packages (from nbclient<0.6.0,>=0.5.0->nbconvert->notebook>=4.4.1->widgetsnbextension~=3.5.0->ipywidgets>=7.0.0->cufflinks) (1.10)\n",
      "Requirement already satisfied: nest-asyncio in c:\\users\\my pc\\anaconda3\\lib\\site-packages (from nbclient<0.6.0,>=0.5.0->nbconvert->notebook>=4.4.1->widgetsnbextension~=3.5.0->ipywidgets>=7.0.0->cufflinks) (1.5.1)\n",
      "Requirement already satisfied: webencodings in c:\\users\\my pc\\anaconda3\\lib\\site-packages (from bleach->nbconvert->notebook>=4.4.1->widgetsnbextension~=3.5.0->ipywidgets>=7.0.0->cufflinks) (0.5.1)\n",
      "Requirement already satisfied: pyparsing>=2.0.2 in c:\\users\\my pc\\anaconda3\\lib\\site-packages (from packaging->plotly>=4.1.1->cufflinks) (3.0.4)\n"
     ]
    }
   ],
   "source": [
    "pip install cufflinks"
   ]
  },
  {
   "cell_type": "code",
   "execution_count": 21,
   "id": "6736320e",
   "metadata": {},
   "outputs": [
    {
     "data": {
      "text/html": [
       "        <script type=\"text/javascript\">\n",
       "        window.PlotlyConfig = {MathJaxConfig: 'local'};\n",
       "        if (window.MathJax && window.MathJax.Hub && window.MathJax.Hub.Config) {window.MathJax.Hub.Config({SVG: {font: \"STIX-Web\"}});}\n",
       "        if (typeof require !== 'undefined') {\n",
       "        require.undef(\"plotly\");\n",
       "        requirejs.config({\n",
       "            paths: {\n",
       "                'plotly': ['https://cdn.plot.ly/plotly-2.26.0.min']\n",
       "            }\n",
       "        });\n",
       "        require(['plotly'], function(Plotly) {\n",
       "            window._Plotly = Plotly;\n",
       "        });\n",
       "        }\n",
       "        </script>\n",
       "        "
      ]
     },
     "metadata": {},
     "output_type": "display_data"
    }
   ],
   "source": [
    "import cufflinks as cf\n",
    "cf.go_offline()"
   ]
  },
  {
   "cell_type": "markdown",
   "id": "ca6d11ff",
   "metadata": {},
   "source": [
    "# Data Visualization"
   ]
  },
  {
   "cell_type": "markdown",
   "id": "b92dc976",
   "metadata": {},
   "source": [
    "# Parent Education Level"
   ]
  },
  {
   "cell_type": "code",
   "execution_count": 79,
   "id": "d381f1d9",
   "metadata": {
    "scrolled": true
   },
   "outputs": [
    {
     "data": {
      "image/png": "[encoded data removed]",
      "text/plain": [
       "<Figure size 800x400 with 1 Axes>"
      ]
     },
     "metadata": {
      "needs_background": "light"
     },
     "output_type": "display_data"
    }
   ],
   "source": [
    "fig = plt. figure(figsize=(8,4), dpi=100)\n",
    "sns.histplot(Mydta[\"ParentEduc\"], palette = 'Blues')\n",
    "plt.title('Comparison of ParentEduc', fontweight = 20, fontsize = 12)\n",
    "plt.xlabel('degree')\n",
    "plt.ylabel('count')\n",
    "plt.show()"
   ]
  },
  {
   "cell_type": "markdown",
   "id": "a1cb460a",
   "metadata": {},
   "source": [
    "# Impact of ParentEduc on Student Scores"
   ]
  },
  {
   "cell_type": "code",
   "execution_count": 80,
   "id": "5eacb54a",
   "metadata": {},
   "outputs": [
    {
     "data": {
      "text/plain": [
       "<AxesSubplot:xlabel='MathScore', ylabel='Count'>"
      ]
     },
     "execution_count": 80,
     "metadata": {},
     "output_type": "execute_result"
    },
    {
     "data": {
      "image/png": "[encoded data removed]",
      "text/plain": [
       "<Figure size 432x288 with 1 Axes>"
      ]
     },
     "metadata": {},
     "output_type": "display_data"
    }
   ],
   "source": [
    "sns.set_style('whitegrid')\n",
    "sns.histplot(x='MathScore',hue='ParentEduc',data=Mydta,palette='RdBu_r')\n"
   ]
  },
  {
   "cell_type": "code",
   "execution_count": 81,
   "id": "bcee336e",
   "metadata": {},
   "outputs": [
    {
     "data": {
      "text/plain": [
       "<AxesSubplot:xlabel='ReadingScore', ylabel='count'>"
      ]
     },
     "execution_count": 81,
     "metadata": {},
     "output_type": "execute_result"
    },
    {
     "data": {
      "image/png": "[encoded data removed]",
      "text/plain": [
       "<Figure size 432x288 with 1 Axes>"
      ]
     },
     "metadata": {},
     "output_type": "display_data"
    }
   ],
   "source": [
    "sns.set_style('whitegrid')\n",
    "sns.countplot(x='ReadingScore',hue='ParentEduc',data=Mydta,palette='RdBu_r')"
   ]
  },
  {
   "cell_type": "code",
   "execution_count": 82,
   "id": "352f88e9",
   "metadata": {},
   "outputs": [
    {
     "data": {
      "text/plain": [
       "<AxesSubplot:xlabel='WritingScore', ylabel='count'>"
      ]
     },
     "execution_count": 82,
     "metadata": {},
     "output_type": "execute_result"
    },
    {
     "data": {
      "image/png": "[encoded data removed]",
      "text/plain": [
       "<Figure size 432x288 with 1 Axes>"
      ]
     },
     "metadata": {},
     "output_type": "display_data"
    }
   ],
   "source": [
    "sns.set_style('darkgrid')\n",
    "sns.countplot(x='WritingScore',hue='ParentEduc',data=Mydta,palette='rainbow')"
   ]
  },
  {
   "cell_type": "markdown",
   "id": "130fd4f6",
   "metadata": {},
   "source": [
    "# Student Scores\n"
   ]
  },
  {
   "cell_type": "code",
   "execution_count": 83,
   "id": "ad9cb74c",
   "metadata": {},
   "outputs": [
    {
     "data": {
      "image/png": "[encoded data removed]",
      "text/plain": [
       "<Figure size 720x360 with 3 Axes>"
      ]
     },
     "metadata": {},
     "output_type": "display_data"
    }
   ],
   "source": [
    "fig = plt. figure(figsize=(10,5))\n",
    "plt.subplot(1,4,1)\n",
    "plt.title('MathScore')\n",
    "sns.violinplot(y='MathScore',data=Mydta,color='red',linewidth=4) \n",
    "plt.subplot(1,4,2) \n",
    "plt.title('ReadingScore')\n",
    "sns.violinplot(y='ReadingScore',data=Mydta,color='blue',linewidth=4)\n",
    "plt.subplot(1,4,3) \n",
    "plt.title('WritingScore')\n",
    "sns.violinplot(y='WritingScore',data=Mydta,color='yellow',linewidth=4)\n",
    "plt.show()"
   ]
  },
  {
   "cell_type": "markdown",
   "id": "72b84cc2",
   "metadata": {},
   "source": [
    "# Parent Marital Staus Vs. Number of Siblings"
   ]
  },
  {
   "cell_type": "code",
   "execution_count": 84,
   "id": "7edcb78f",
   "metadata": {},
   "outputs": [
    {
     "data": {
      "text/plain": [
       "<AxesSubplot:xlabel='NrSiblings', ylabel='count'>"
      ]
     },
     "execution_count": 84,
     "metadata": {},
     "output_type": "execute_result"
    },
    {
     "data": {
      "image/png": "[encoded data removed]",
      "text/plain": [
       "<Figure size 432x288 with 1 Axes>"
      ]
     },
     "metadata": {},
     "output_type": "display_data"
    }
   ],
   "source": [
    "sns.set_style('whitegrid')\n",
    "sns.countplot(x='NrSiblings',hue='ParentMaritalStatus',data=Mydta,palette='RdBu_r')"
   ]
  },
  {
   "cell_type": "markdown",
   "id": "e93493e4",
   "metadata": {},
   "source": [
    "# Which Gender With More WklyStudyHours"
   ]
  },
  {
   "cell_type": "code",
   "execution_count": 90,
   "id": "f9fd332f",
   "metadata": {},
   "outputs": [
    {
     "data": {
      "text/plain": [
       "<AxesSubplot:xlabel='WklyStudyHours', ylabel='count'>"
      ]
     },
     "execution_count": 90,
     "metadata": {},
     "output_type": "execute_result"
    },
    {
     "data": {
      "image/png": "[encoded data removed]",
      "text/plain": [
       "<Figure size 432x288 with 1 Axes>"
      ]
     },
     "metadata": {},
     "output_type": "display_data"
    }
   ],
   "source": [
    "sns.set_style('whitegrid')\n",
    "sns.countplot(x='WklyStudyHours',hue='male',data=Mydta,palette='rainbow')"
   ]
  },
  {
   "cell_type": "code",
   "execution_count": 91,
   "id": "b1320fdd",
   "metadata": {},
   "outputs": [
    {
     "data": {
      "text/html": [
       "<div>\n",
       "<style scoped>\n",
       "    .dataframe tbody tr th:only-of-type {\n",
       "        vertical-align: middle;\n",
       "    }\n",
       "\n",
       "    .dataframe tbody tr th {\n",
       "        vertical-align: top;\n",
       "    }\n",
       "\n",
       "    .dataframe thead th {\n",
       "        text-align: right;\n",
       "    }\n",
       "</style>\n",
       "<table border=\"1\" class=\"dataframe\">\n",
       "  <thead>\n",
       "    <tr style=\"text-align: right;\">\n",
       "      <th></th>\n",
       "      <th>Unnamed: 0</th>\n",
       "      <th>ParentEduc</th>\n",
       "      <th>TestPrep</th>\n",
       "      <th>ParentMaritalStatus</th>\n",
       "      <th>NrSiblings</th>\n",
       "      <th>WklyStudyHours</th>\n",
       "      <th>MathScore</th>\n",
       "      <th>ReadingScore</th>\n",
       "      <th>WritingScore</th>\n",
       "      <th>male</th>\n",
       "    </tr>\n",
       "  </thead>\n",
       "  <tbody>\n",
       "    <tr>\n",
       "      <th>0</th>\n",
       "      <td>0</td>\n",
       "      <td>bachelor's degree</td>\n",
       "      <td>none</td>\n",
       "      <td>married</td>\n",
       "      <td>3.0</td>\n",
       "      <td>&lt; 5</td>\n",
       "      <td>71</td>\n",
       "      <td>71</td>\n",
       "      <td>74</td>\n",
       "      <td>0</td>\n",
       "    </tr>\n",
       "    <tr>\n",
       "      <th>1</th>\n",
       "      <td>1</td>\n",
       "      <td>some college</td>\n",
       "      <td>none</td>\n",
       "      <td>married</td>\n",
       "      <td>0.0</td>\n",
       "      <td>5 - 10</td>\n",
       "      <td>69</td>\n",
       "      <td>90</td>\n",
       "      <td>88</td>\n",
       "      <td>0</td>\n",
       "    </tr>\n",
       "    <tr>\n",
       "      <th>2</th>\n",
       "      <td>2</td>\n",
       "      <td>master's degree</td>\n",
       "      <td>none</td>\n",
       "      <td>single</td>\n",
       "      <td>4.0</td>\n",
       "      <td>&lt; 5</td>\n",
       "      <td>87</td>\n",
       "      <td>93</td>\n",
       "      <td>91</td>\n",
       "      <td>0</td>\n",
       "    </tr>\n",
       "    <tr>\n",
       "      <th>3</th>\n",
       "      <td>3</td>\n",
       "      <td>associate's degree</td>\n",
       "      <td>none</td>\n",
       "      <td>married</td>\n",
       "      <td>1.0</td>\n",
       "      <td>5 - 10</td>\n",
       "      <td>45</td>\n",
       "      <td>56</td>\n",
       "      <td>42</td>\n",
       "      <td>1</td>\n",
       "    </tr>\n",
       "    <tr>\n",
       "      <th>4</th>\n",
       "      <td>4</td>\n",
       "      <td>some college</td>\n",
       "      <td>none</td>\n",
       "      <td>married</td>\n",
       "      <td>0.0</td>\n",
       "      <td>5 - 10</td>\n",
       "      <td>76</td>\n",
       "      <td>78</td>\n",
       "      <td>75</td>\n",
       "      <td>1</td>\n",
       "    </tr>\n",
       "    <tr>\n",
       "      <th>5</th>\n",
       "      <td>5</td>\n",
       "      <td>associate's degree</td>\n",
       "      <td>none</td>\n",
       "      <td>married</td>\n",
       "      <td>1.0</td>\n",
       "      <td>5 - 10</td>\n",
       "      <td>73</td>\n",
       "      <td>84</td>\n",
       "      <td>79</td>\n",
       "      <td>0</td>\n",
       "    </tr>\n",
       "    <tr>\n",
       "      <th>6</th>\n",
       "      <td>6</td>\n",
       "      <td>some college</td>\n",
       "      <td>completed</td>\n",
       "      <td>widowed</td>\n",
       "      <td>1.0</td>\n",
       "      <td>5 - 10</td>\n",
       "      <td>85</td>\n",
       "      <td>93</td>\n",
       "      <td>89</td>\n",
       "      <td>0</td>\n",
       "    </tr>\n",
       "    <tr>\n",
       "      <th>7</th>\n",
       "      <td>7</td>\n",
       "      <td>some college</td>\n",
       "      <td>none</td>\n",
       "      <td>married</td>\n",
       "      <td>1.0</td>\n",
       "      <td>&gt; 10</td>\n",
       "      <td>41</td>\n",
       "      <td>43</td>\n",
       "      <td>39</td>\n",
       "      <td>1</td>\n",
       "    </tr>\n",
       "    <tr>\n",
       "      <th>8</th>\n",
       "      <td>8</td>\n",
       "      <td>high school</td>\n",
       "      <td>completed</td>\n",
       "      <td>single</td>\n",
       "      <td>3.0</td>\n",
       "      <td>&gt; 10</td>\n",
       "      <td>65</td>\n",
       "      <td>64</td>\n",
       "      <td>68</td>\n",
       "      <td>1</td>\n",
       "    </tr>\n",
       "    <tr>\n",
       "      <th>9</th>\n",
       "      <td>9</td>\n",
       "      <td>high school</td>\n",
       "      <td>none</td>\n",
       "      <td>married</td>\n",
       "      <td>2.2</td>\n",
       "      <td>&lt; 5</td>\n",
       "      <td>37</td>\n",
       "      <td>59</td>\n",
       "      <td>50</td>\n",
       "      <td>0</td>\n",
       "    </tr>\n",
       "    <tr>\n",
       "      <th>10</th>\n",
       "      <td>10</td>\n",
       "      <td>associate's degree</td>\n",
       "      <td>none</td>\n",
       "      <td>married</td>\n",
       "      <td>1.0</td>\n",
       "      <td>5 - 10</td>\n",
       "      <td>58</td>\n",
       "      <td>54</td>\n",
       "      <td>52</td>\n",
       "      <td>1</td>\n",
       "    </tr>\n",
       "    <tr>\n",
       "      <th>11</th>\n",
       "      <td>11</td>\n",
       "      <td>associate's degree</td>\n",
       "      <td>none</td>\n",
       "      <td>divorced</td>\n",
       "      <td>1.0</td>\n",
       "      <td>5 - 10</td>\n",
       "      <td>40</td>\n",
       "      <td>52</td>\n",
       "      <td>43</td>\n",
       "      <td>1</td>\n",
       "    </tr>\n",
       "    <tr>\n",
       "      <th>12</th>\n",
       "      <td>12</td>\n",
       "      <td>high school</td>\n",
       "      <td>none</td>\n",
       "      <td>married</td>\n",
       "      <td>1.0</td>\n",
       "      <td>5 - 10</td>\n",
       "      <td>66</td>\n",
       "      <td>82</td>\n",
       "      <td>74</td>\n",
       "      <td>0</td>\n",
       "    </tr>\n",
       "    <tr>\n",
       "      <th>13</th>\n",
       "      <td>13</td>\n",
       "      <td>some college</td>\n",
       "      <td>completed</td>\n",
       "      <td>single</td>\n",
       "      <td>1.0</td>\n",
       "      <td>&gt; 10</td>\n",
       "      <td>80</td>\n",
       "      <td>73</td>\n",
       "      <td>71</td>\n",
       "      <td>1</td>\n",
       "    </tr>\n",
       "    <tr>\n",
       "      <th>14</th>\n",
       "      <td>14</td>\n",
       "      <td>master's degree</td>\n",
       "      <td>none</td>\n",
       "      <td>divorced</td>\n",
       "      <td>2.0</td>\n",
       "      <td>&lt; 5</td>\n",
       "      <td>48</td>\n",
       "      <td>53</td>\n",
       "      <td>58</td>\n",
       "      <td>0</td>\n",
       "    </tr>\n",
       "  </tbody>\n",
       "</table>\n",
       "</div>"
      ],
      "text/plain": [
       "    Unnamed: 0          ParentEduc   TestPrep ParentMaritalStatus  NrSiblings  \\\n",
       "0            0   bachelor's degree       none             married         3.0   \n",
       "1            1        some college       none             married         0.0   \n",
       "2            2     master's degree       none              single         4.0   \n",
       "3            3  associate's degree       none             married         1.0   \n",
       "4            4        some college       none             married         0.0   \n",
       "5            5  associate's degree       none             married         1.0   \n",
       "6            6        some college  completed             widowed         1.0   \n",
       "7            7        some college       none             married         1.0   \n",
       "8            8         high school  completed              single         3.0   \n",
       "9            9         high school       none             married         2.2   \n",
       "10          10  associate's degree       none             married         1.0   \n",
       "11          11  associate's degree       none            divorced         1.0   \n",
       "12          12         high school       none             married         1.0   \n",
       "13          13        some college  completed              single         1.0   \n",
       "14          14     master's degree       none            divorced         2.0   \n",
       "\n",
       "   WklyStudyHours  MathScore  ReadingScore  WritingScore  male  \n",
       "0             < 5         71            71            74     0  \n",
       "1          5 - 10         69            90            88     0  \n",
       "2             < 5         87            93            91     0  \n",
       "3          5 - 10         45            56            42     1  \n",
       "4          5 - 10         76            78            75     1  \n",
       "5          5 - 10         73            84            79     0  \n",
       "6          5 - 10         85            93            89     0  \n",
       "7            > 10         41            43            39     1  \n",
       "8            > 10         65            64            68     1  \n",
       "9             < 5         37            59            50     0  \n",
       "10         5 - 10         58            54            52     1  \n",
       "11         5 - 10         40            52            43     1  \n",
       "12         5 - 10         66            82            74     0  \n",
       "13           > 10         80            73            71     1  \n",
       "14            < 5         48            53            58     0  "
      ]
     },
     "execution_count": 91,
     "metadata": {},
     "output_type": "execute_result"
    }
   ],
   "source": [
    "Mydta.head(15)"
   ]
  },
  {
   "cell_type": "code",
   "execution_count": 107,
   "id": "53574a7c",
   "metadata": {},
   "outputs": [],
   "source": [
    "Mydta.drop(['WklyStudyHours'],axis=1,inplace=True)"
   ]
  },
  {
   "cell_type": "code",
   "execution_count": 108,
   "id": "5061010f",
   "metadata": {},
   "outputs": [
    {
     "data": {
      "text/html": [
       "<div>\n",
       "<style scoped>\n",
       "    .dataframe tbody tr th:only-of-type {\n",
       "        vertical-align: middle;\n",
       "    }\n",
       "\n",
       "    .dataframe tbody tr th {\n",
       "        vertical-align: top;\n",
       "    }\n",
       "\n",
       "    .dataframe thead th {\n",
       "        text-align: right;\n",
       "    }\n",
       "</style>\n",
       "<table border=\"1\" class=\"dataframe\">\n",
       "  <thead>\n",
       "    <tr style=\"text-align: right;\">\n",
       "      <th></th>\n",
       "      <th>Unnamed: 0</th>\n",
       "      <th>NrSiblings</th>\n",
       "      <th>MathScore</th>\n",
       "      <th>ReadingScore</th>\n",
       "      <th>WritingScore</th>\n",
       "      <th>male</th>\n",
       "    </tr>\n",
       "  </thead>\n",
       "  <tbody>\n",
       "    <tr>\n",
       "      <th>0</th>\n",
       "      <td>0</td>\n",
       "      <td>3.0</td>\n",
       "      <td>71</td>\n",
       "      <td>71</td>\n",
       "      <td>74</td>\n",
       "      <td>0</td>\n",
       "    </tr>\n",
       "    <tr>\n",
       "      <th>1</th>\n",
       "      <td>1</td>\n",
       "      <td>0.0</td>\n",
       "      <td>69</td>\n",
       "      <td>90</td>\n",
       "      <td>88</td>\n",
       "      <td>0</td>\n",
       "    </tr>\n",
       "    <tr>\n",
       "      <th>2</th>\n",
       "      <td>2</td>\n",
       "      <td>4.0</td>\n",
       "      <td>87</td>\n",
       "      <td>93</td>\n",
       "      <td>91</td>\n",
       "      <td>0</td>\n",
       "    </tr>\n",
       "    <tr>\n",
       "      <th>3</th>\n",
       "      <td>3</td>\n",
       "      <td>1.0</td>\n",
       "      <td>45</td>\n",
       "      <td>56</td>\n",
       "      <td>42</td>\n",
       "      <td>1</td>\n",
       "    </tr>\n",
       "    <tr>\n",
       "      <th>4</th>\n",
       "      <td>4</td>\n",
       "      <td>0.0</td>\n",
       "      <td>76</td>\n",
       "      <td>78</td>\n",
       "      <td>75</td>\n",
       "      <td>1</td>\n",
       "    </tr>\n",
       "  </tbody>\n",
       "</table>\n",
       "</div>"
      ],
      "text/plain": [
       "   Unnamed: 0  NrSiblings  MathScore  ReadingScore  WritingScore  male\n",
       "0           0         3.0         71            71            74     0\n",
       "1           1         0.0         69            90            88     0\n",
       "2           2         4.0         87            93            91     0\n",
       "3           3         1.0         45            56            42     1\n",
       "4           4         0.0         76            78            75     1"
      ]
     },
     "execution_count": 108,
     "metadata": {},
     "output_type": "execute_result"
    }
   ],
   "source": [
    "Mydta.head()"
   ]
  },
  {
   "cell_type": "markdown",
   "id": "e373c146",
   "metadata": {},
   "source": [
    "# Building a Logistic Regression model\n",
    " We Split our data into a training set and test set. We will use MathScore as our dependent variable y and the rest of our variables will serve as the independent variables x."
   ]
  },
  {
   "cell_type": "markdown",
   "id": "a9d59607",
   "metadata": {},
   "source": [
    "# Train Test Split"
   ]
  },
  {
   "cell_type": "code",
   "execution_count": 109,
   "id": "5e29c5da",
   "metadata": {},
   "outputs": [],
   "source": [
    "from sklearn.model_selection import train_test_split"
   ]
  },
  {
   "cell_type": "code",
   "execution_count": 110,
   "id": "3cb0fcb3",
   "metadata": {},
   "outputs": [],
   "source": [
    "X_train, X_test, y_train, y_test = train_test_split(Mydta.drop('MathScore',axis=1), \n",
    "                                                    Mydta['MathScore'], test_size=0.30, \n",
    "                                                    random_state=101)"
   ]
  },
  {
   "cell_type": "markdown",
   "id": "3e7fcf2e",
   "metadata": {},
   "source": [
    "# Training and Predicting"
   ]
  },
  {
   "cell_type": "code",
   "execution_count": 111,
   "id": "3f8d9dca",
   "metadata": {},
   "outputs": [],
   "source": [
    "from sklearn.linear_model import LogisticRegression"
   ]
  },
  {
   "cell_type": "code",
   "execution_count": 112,
   "id": "5618e923",
   "metadata": {},
   "outputs": [
    {
     "name": "stderr",
     "output_type": "stream",
     "text": [
      "C:\\Users\\MY PC\\anaconda3\\lib\\site-packages\\sklearn\\linear_model\\_logistic.py:763: ConvergenceWarning: lbfgs failed to converge (status=1):\n",
      "STOP: TOTAL NO. of ITERATIONS REACHED LIMIT.\n",
      "\n",
      "Increase the number of iterations (max_iter) or scale the data as shown in:\n",
      "    https://scikit-learn.org/stable/modules/preprocessing.html\n",
      "Please also refer to the documentation for alternative solver options:\n",
      "    https://scikit-learn.org/stable/modules/linear_model.html#logistic-regression\n",
      "  n_iter_i = _check_optimize_result(\n"
     ]
    },
    {
     "data": {
      "text/plain": [
       "LogisticRegression()"
      ]
     },
     "execution_count": 112,
     "metadata": {},
     "output_type": "execute_result"
    }
   ],
   "source": [
    "logmodel = LogisticRegression()\n",
    "logmodel.fit(X_train,y_train)"
   ]
  },
  {
   "cell_type": "code",
   "execution_count": 113,
   "id": "e7b16dab",
   "metadata": {},
   "outputs": [],
   "source": [
    "predictions = logmodel.predict(X_test)"
   ]
  },
  {
   "cell_type": "markdown",
   "id": "b9e0f787",
   "metadata": {},
   "source": [
    "# Model Evaluation \n",
    "We now check precision,recall,f1-score using classification reports."
   ]
  },
  {
   "cell_type": "code",
   "execution_count": 114,
   "id": "227f56dd",
   "metadata": {},
   "outputs": [],
   "source": [
    "from sklearn.metrics import classification_report"
   ]
  },
  {
   "cell_type": "code",
   "execution_count": 115,
   "id": "a38e19ca",
   "metadata": {},
   "outputs": [
    {
     "name": "stdout",
     "output_type": "stream",
     "text": [
      "              precision    recall  f1-score   support\n",
      "\n",
      "          11       0.00      0.00      0.00         1\n",
      "          13       0.00      0.00      0.00         1\n",
      "          14       0.00      0.00      0.00         1\n",
      "          18       0.00      0.00      0.00         2\n",
      "          19       0.00      0.00      0.00         3\n",
      "          21       0.00      0.00      0.00         5\n",
      "          22       0.00      0.00      0.00         5\n",
      "          23       0.00      0.00      0.00         4\n",
      "          24       0.00      0.00      0.00         5\n",
      "          25       0.00      0.00      0.00         4\n",
      "          26       0.00      0.00      0.00         7\n",
      "          27       0.00      0.00      0.00        12\n",
      "          28       0.00      0.00      0.00         8\n",
      "          29       0.00      0.00      0.00        15\n",
      "          30       0.00      0.00      0.00        13\n",
      "          31       0.00      0.00      0.00        21\n",
      "          32       0.00      0.00      0.00        26\n",
      "          33       0.00      0.00      0.00        30\n",
      "          34       0.00      0.00      0.00        18\n",
      "          35       0.00      0.00      0.00        26\n",
      "          36       0.00      0.00      0.00        30\n",
      "          37       0.00      0.00      0.00        28\n",
      "          38       0.00      0.00      0.00        41\n",
      "          39       0.00      0.00      0.00        49\n",
      "          40       0.00      0.00      0.00        53\n",
      "          41       0.00      0.00      0.00        63\n",
      "          42       0.00      0.00      0.00        69\n",
      "          43       0.05      0.10      0.06        78\n",
      "          44       0.00      0.00      0.00        89\n",
      "          45       0.00      0.00      0.00        81\n",
      "          46       0.00      0.00      0.00        99\n",
      "          47       0.00      0.00      0.00        98\n",
      "          48       0.00      0.00      0.00       116\n",
      "          49       0.00      0.00      0.00       129\n",
      "          50       0.00      0.00      0.00       126\n",
      "          51       0.00      0.00      0.00       147\n",
      "          52       0.00      0.00      0.00       153\n",
      "          53       0.00      0.00      0.00       175\n",
      "          54       0.00      0.00      0.00       159\n",
      "          55       0.00      0.00      0.00       183\n",
      "          56       0.02      0.01      0.01       167\n",
      "          57       0.00      0.00      0.00       197\n",
      "          58       0.00      0.00      0.00       187\n",
      "          59       0.00      0.00      0.00       194\n",
      "          60       0.00      0.00      0.00       217\n",
      "          61       0.00      0.00      0.00       204\n",
      "          62       0.00      0.00      0.00       238\n",
      "          63       0.00      0.00      0.00       243\n",
      "          64       0.03      0.54      0.05       257\n",
      "          65       0.00      0.00      0.00       237\n",
      "          66       0.00      0.00      0.00       225\n",
      "          67       0.03      0.00      0.01       238\n",
      "          68       0.00      0.00      0.00       171\n",
      "          69       0.00      0.00      0.00       212\n",
      "          70       0.04      0.07      0.05       243\n",
      "          71       0.03      0.31      0.06       246\n",
      "          72       0.00      0.00      0.00       236\n",
      "          73       0.00      0.00      0.00       221\n",
      "          74       0.00      0.00      0.00       194\n",
      "          75       0.00      0.00      0.00       202\n",
      "          76       0.00      0.00      0.00       204\n",
      "          77       0.00      0.00      0.00       188\n",
      "          78       0.00      0.00      0.00       171\n",
      "          79       0.00      0.00      0.00       192\n",
      "          80       0.00      0.00      0.00       177\n",
      "          81       0.00      0.00      0.00       152\n",
      "          82       0.00      0.00      0.00       181\n",
      "          83       0.02      0.14      0.04       155\n",
      "          84       0.00      0.00      0.00       126\n",
      "          85       0.00      0.00      0.00       125\n",
      "          86       0.00      0.00      0.00       135\n",
      "          87       0.00      0.00      0.00       101\n",
      "          88       0.00      0.00      0.00        86\n",
      "          89       0.00      0.00      0.00        82\n",
      "          90       0.00      0.00      0.00        80\n",
      "          91       0.00      0.00      0.00        69\n",
      "          92       0.00      0.00      0.00        42\n",
      "          93       0.00      0.00      0.00        60\n",
      "          94       0.00      0.00      0.00        62\n",
      "          95       0.00      0.00      0.00        50\n",
      "          96       0.00      0.00      0.00        60\n",
      "          97       0.00      0.00      0.00        51\n",
      "          98       0.00      0.00      0.00        28\n",
      "          99       0.00      0.00      0.00        26\n",
      "         100       0.00      0.00      0.00        88\n",
      "\n",
      "    accuracy                           0.03      9193\n",
      "   macro avg       0.00      0.01      0.00      9193\n",
      "weighted avg       0.00      0.03      0.01      9193\n",
      "\n"
     ]
    },
    {
     "name": "stderr",
     "output_type": "stream",
     "text": [
      "C:\\Users\\MY PC\\anaconda3\\lib\\site-packages\\sklearn\\metrics\\_classification.py:1248: UndefinedMetricWarning: Precision and F-score are ill-defined and being set to 0.0 in labels with no predicted samples. Use `zero_division` parameter to control this behavior.\n",
      "  _warn_prf(average, modifier, msg_start, len(result))\n",
      "C:\\Users\\MY PC\\anaconda3\\lib\\site-packages\\sklearn\\metrics\\_classification.py:1248: UndefinedMetricWarning: Precision and F-score are ill-defined and being set to 0.0 in labels with no predicted samples. Use `zero_division` parameter to control this behavior.\n",
      "  _warn_prf(average, modifier, msg_start, len(result))\n",
      "C:\\Users\\MY PC\\anaconda3\\lib\\site-packages\\sklearn\\metrics\\_classification.py:1248: UndefinedMetricWarning: Precision and F-score are ill-defined and being set to 0.0 in labels with no predicted samples. Use `zero_division` parameter to control this behavior.\n",
      "  _warn_prf(average, modifier, msg_start, len(result))\n"
     ]
    }
   ],
   "source": [
    "print(classification_report(y_test,predictions))"
   ]
  },
  {
   "cell_type": "markdown",
   "id": "2062e2b2",
   "metadata": {},
   "source": [
    "# Conclusion"
   ]
  },
  {
   "cell_type": "code",
   "execution_count": 137,
   "id": "956f0b3e",
   "metadata": {},
   "outputs": [
    {
     "ename": "NameError",
     "evalue": "name 'r2_square' is not defined",
     "output_type": "error",
     "traceback": [
      "\u001b[1;31m---------------------------------------------------------------------------\u001b[0m",
      "\u001b[1;31mNameError\u001b[0m                                 Traceback (most recent call last)",
      "\u001b[1;32mC:\\Users\\MYPC~1\\AppData\\Local\\Temp/ipykernel_13204/4067824558.py\u001b[0m in \u001b[0;36m<module>\u001b[1;34m\u001b[0m\n\u001b[1;32m----> 1\u001b[1;33m \u001b[0mprint\u001b[0m\u001b[1;33m(\u001b[0m\u001b[0mr2_square\u001b[0m\u001b[1;33m)\u001b[0m\u001b[1;33m\u001b[0m\u001b[1;33m\u001b[0m\u001b[0m\n\u001b[0m",
      "\u001b[1;31mNameError\u001b[0m: name 'r2_square' is not defined"
     ]
    }
   ],
   "source": []
  },
  {
   "cell_type": "code",
   "execution_count": null,
   "id": "eb86cdac",
   "metadata": {},
   "outputs": [],
   "source": []
  }
 ],
 "metadata": {
  "kernelspec": {
   "display_name": "Python 3 (ipykernel)",
   "language": "python",
   "name": "python3"
  },
  "language_info": {
   "codemirror_mode": {
    "name": "ipython",
    "version": 3
   },
   "file_extension": ".py",
   "mimetype": "text/x-python",
   "name": "python",
   "nbconvert_exporter": "python",
   "pygments_lexer": "ipython3",
   "version": "3.9.7"
  }
 },
 "nbformat": 4,
 "nbformat_minor": 5
}
